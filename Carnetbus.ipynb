{
  "nbformat": 4,
  "nbformat_minor": 0,
  "metadata": {
    "colab": {
      "provenance": [],
      "authorship_tag": "ABX9TyPuJ/Bq+o6g/3weUw/APURM",
      "include_colab_link": true
    },
    "kernelspec": {
      "name": "python3",
      "display_name": "Python 3"
    },
    "language_info": {
      "name": "python"
    }
  },
  "cells": [
    {
      "cell_type": "markdown",
      "metadata": {
        "id": "view-in-github",
        "colab_type": "text"
      },
      "source": [
        "<a href=\"https://colab.research.google.com/github/Moredat/Useformoredat/blob/main/Carnetbus.ipynb\" target=\"_parent\"><img src=\"https://colab.research.google.com/assets/colab-badge.svg\" alt=\"Open In Colab\"/></a>"
      ]
    },
    {
      "cell_type": "code",
      "execution_count": null,
      "metadata": {
        "id": "WlzB919zUEIR"
      },
      "outputs": [],
      "source": [
        "def primerejemplo(nombre, edad):\n",
        "  # bloque de creacion de variables\n",
        "  direccion=input(\"Dame tu dirección: \")\n",
        "  cp=int(input(\"Dame tu código postal: \"))\n",
        "  if cp >=45000 and cp <=45999:\n",
        "    print(\"Esta usted en la delegación de toledo.\")\n",
        "    if edad < 12:\n",
        "      print(\"Tienes el autobús gartis.\")\n",
        "      op = input(\"Quieres solicitarlo?(si/no): \")\n",
        "      if op ==\"si\":\n",
        "        print(\"---------------------------------\")\n",
        "        print(\"| CARNET DE AUTOBUS INFANTIL    |\")\n",
        "        print(\"| Nombre:\"+nombre+\"             |\")\n",
        "        print(\"| Edad:\"+str(edad)+\"            |\")\n",
        "        print(\"| Toledo                        |\")\n",
        "        print(\"---------------------------------\")\n",
        "    elif edad < 18:\n",
        "      print(\"Beber y fumar perjudican a las neuronas.\") \n",
        "    else:\n",
        "      print(\"Ya puedes hacer lo que quieras, ya pagas impuestos\")     \n",
        "  elif cp >=13000 and cp <=13999:\n",
        "      print(\"Esta usted en la delegación de Cudad real.\")\n",
        "      if edad < 12:\n",
        "        print(\"Tienes el autobús gartis.\")\n",
        "        op = input(\"Quieres solicitarlo?(si/no): \")\n",
        "        if op ==\"si\":\n",
        "          print(\"---------------------------------\")\n",
        "          print(\"| CARNET DE AUTOBUS INFANTIL     |\")\n",
        "          print(\"| Nombre:\"+nombre+\"              |\")\n",
        "          print(\"| Edad:\"+str(edad)+\"             |\")\n",
        "          print(\"| Ciudad Real                    |\")\n",
        "          print(\"---------------------------------\")\n",
        "      elif edad <18:\n",
        "        print(\"Beber y fumar perjudican a las neuronas.\") \n",
        "      else:\n",
        "        print(\"Ya puedes hacer lo que quieras, ya pagas impuestos\") \n",
        "  else:\n",
        "    print(\"No tengo competencias en su población\")\n",
        "  return \"Gracias por usar el servicio de ciudadania.\"  \n",
        "\n",
        "\n",
        "def programaprincipal():\n",
        "   nombre =input(\"dame nombre: \")\n",
        "   edad = int(input(\"dame edad:\"))\n",
        "   cp =primerejemplo(nombre, edad)\n",
        "   print(nombre, edad, cp)     \n",
        "\n",
        "programaprincipal()"
      ]
    }
  ]
}
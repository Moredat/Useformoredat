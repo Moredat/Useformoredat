{
  "nbformat": 4,
  "nbformat_minor": 0,
  "metadata": {
    "colab": {
      "provenance": [],
      "include_colab_link": true
    },
    "kernelspec": {
      "name": "python3",
      "display_name": "Python 3"
    },
    "language_info": {
      "name": "python"
    }
  },
  "cells": [
    {
      "cell_type": "markdown",
      "metadata": {
        "id": "view-in-github",
        "colab_type": "text"
      },
      "source": [
        "<a href=\"https://colab.research.google.com/github/Moredat/Useformoredat/blob/main/juego_UNO.ipynb\" target=\"_parent\"><img src=\"https://colab.research.google.com/assets/colab-badge.svg\" alt=\"Open In Colab\"/></a>"
      ]
    },
    {
      "cell_type": "code",
      "source": [
        "import random\n",
        "\n",
        "baraja = [\"R0\",\"R1\",\"R2\",\"R3\",\"R4\",\"R5\",\"R6\",\"R7\",\"R8\",\"R9\",\"B0\",\"B1\",\"B2\",\"B3\",\"B4\",\"B5\",\"B6\",\"B7\",\"B8\",\"B9\",\"Y0\",\"Y1\",\"Y2\",\"Y3\",\"Y4\",\"Y5\",\"Y6\",\"Y7\",\"Y8\",\"Y9\",\"G0\",\"G1\",\"G2\",\"G3\",\"G4\",\"G5\",\"G6\",\"G7\",\"G8\",\"G9\"]\n",
        "\n",
        "jugador1 = []\n",
        "jugador2 = []\n",
        "\n",
        "def barajar_cartas(lista):\n",
        "    random.shuffle(lista)\n",
        "    return lista\n",
        "\n",
        "def repartir_cartas(baraja):\n",
        "    mano = []\n",
        "    for i in range(7):\n",
        "        mano.append(baraja.pop())\n",
        "    return mano\n",
        "\n",
        "def empieza_jugador():\n",
        "    return random.randint(1, 2)\n",
        "\n",
        "def turno_jugada(jugador, cartacentro, baraja):\n",
        "    escogecarta = True\n",
        "    while escogecarta:\n",
        "        print(jugador)\n",
        "        print(\"Carta central: \", cartacentro[-1])\n",
        "        carta = input(\"¿Qué carta quieres escoger? (Ej:'R8') o pulsa intro para pasar\").upper()\n",
        "        if carta == \"\":\n",
        "            if len(baraja) == 0:\n",
        "                print(\"Empate\")\n",
        "                baraja += cartacentro[:-1]\n",
        "                cartacentro = [cartacentro[-1]]\n",
        "                break\n",
        "            robacarta = baraja.pop()\n",
        "            jugador.append(robacarta)\n",
        "            print(jugador)\n",
        "            print(\"Carta central: \", cartacentro[-1])\n",
        "            carta = input(\"¿Qué carta quieres escoger? (Ej:'R8') o pulsa intro para pasar\").upper()\n",
        "        if carta == \"\":\n",
        "            return jugador, cartacentro, baraja\n",
        "        if carta[0] == cartacentro[-1][0] or carta[1] == cartacentro[-1][1]:\n",
        "            cartacentro.append(carta)\n",
        "            if carta in jugador:\n",
        "                posicion = jugador.index(carta)\n",
        "                jugador.pop(posicion)\n",
        "                escogecarta = False\n",
        "            else:\n",
        "                print(\"No tienes esa carta\")\n",
        "                escogecarta = True\n",
        "        else:\n",
        "            print(\"Debes elegir una carta que coincida en color o número\")\n",
        "    return jugador, cartacentro, baraja\n",
        "\n",
        "def juego_uno(jugador1, jugador2, baraja):\n",
        "    baraja = barajar_cartas(baraja)\n",
        "    jugador1 = repartir_cartas(baraja)\n",
        "    jugador2 = repartir_cartas(baraja)\n",
        "    cartacentro = [baraja.pop()]\n",
        "    turno = empieza_jugador()\n",
        "    if turno == 1:\n",
        "      while len(jugador1) > 0 and len(jugador2) > 0:\n",
        "        print(\"Turno jugador 1:\")\n",
        "        jugador1, cartacentro, baraja = turno_jugada(jugador1, cartacentro, baraja)\n",
        "        print(\"Turno jugador 2:\")\n",
        "        jugador2, cartacentro, baraja = turno_jugada(jugador2, cartacentro, baraja)\n",
        "        jugador2, cartacentro, baraja = turno_jugada(jugador2,cartacentro, baraja)\n",
        "      if len(jugador1)==0:\n",
        "        return \"GANA jugador 1\"\n",
        "      if len(jugador2)==0:\n",
        "        return \"GANA jugador 2\"\n",
        "    if turno==2:\n",
        "      while(len(jugador1)>0 and len(jugador2)>0):\n",
        "        print(\"Turno jugador 2:\")\n",
        "        jugador2, cartacentro, baraja = turno_jugada(jugador2,cartacentro, baraja)\n",
        "        print(\"Turno jugador 1:\")\n",
        "        jugador1, cartacentro, baraja = turno_jugada(jugador1,cartacentro, baraja)\n",
        "      if len(jugador1)==0:\n",
        "        return \"GANA jugador 1\"\n",
        "      if len(jugador2)==0:\n",
        "        return \"GANA jugador 2\"\n",
        "\n",
        "\n",
        "juego_uno(jugador1,jugador2,baraja)\n"
      ],
      "metadata": {
        "id": "f2JXUbQIWELo"
      },
      "execution_count": null,
      "outputs": []
    }
  ]
}
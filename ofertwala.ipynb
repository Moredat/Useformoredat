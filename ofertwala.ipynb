{
  "nbformat": 4,
  "nbformat_minor": 0,
  "metadata": {
    "colab": {
      "provenance": [],
      "include_colab_link": true
    },
    "kernelspec": {
      "name": "python3",
      "display_name": "Python 3"
    },
    "language_info": {
      "name": "python"
    }
  },
  "cells": [
    {
      "cell_type": "markdown",
      "metadata": {
        "id": "view-in-github",
        "colab_type": "text"
      },
      "source": [
        "<a href=\"https://colab.research.google.com/github/Moredat/Useformoredat/blob/main/ofertwala.ipynb\" target=\"_parent\"><img src=\"https://colab.research.google.com/assets/colab-badge.svg\" alt=\"Open In Colab\"/></a>"
      ]
    },
    {
      "cell_type": "code",
      "execution_count": null,
      "metadata": {
        "id": "x2YFihaXhzV2"
      },
      "outputs": [],
      "source": [
        "\n",
        "import requests\n",
        "from bs4 import BeautifulSoup\n",
        "\n",
        "def buscar_ofertas_wallapop(busqueda, max_precio):\n",
        "    url = f'https://es.wallapop.com/search?kws={busqueda}&order=distance-asc&max_price={max_precio}'\n",
        "    headers = {\n",
        "        'User-Agent': 'Mozilla/5.0 (Windows NT 10.0; Win64; x64) AppleWebKit/537.36 (KHTML, like Gecko) Chrome/58.0.3029.110 Safari/537.3'\n",
        "    }\n",
        "\n",
        "    response = requests.get(url, headers=headers)\n",
        "    soup = BeautifulSoup(response.content, 'html.parser')\n",
        "\n",
        "    articulos = soup.find_all('article', class_='card-product')\n",
        "\n",
        "    ofertas = []\n",
        "    for articulo in articulos:\n",
        "        titulo = articulo.find('span', class_='item-title').text.strip()\n",
        "        precio = articulo.find('span', class_='item-price').text.strip()\n",
        "        enlace = articulo.find('a', class_='item-link')['href']\n",
        "        ofertas.append({'titulo': titulo, 'precio': precio, 'enlace': enlace})\n",
        "\n",
        "    return ofertas\n",
        "\n",
        "busqueda = 'iphone'\n",
        "max_precio = 300\n",
        "ofertas = buscar_ofertas_wallapop(busqueda, max_precio)\n",
        "\n",
        "for oferta in ofertas:\n",
        "    print(f\"Titulo: {oferta['titulo']}\\nPrecio: {oferta['precio']}\\nEnlace: {oferta['enlace']}\\n\")\n",
        "\n"
      ]
    },
    {
      "cell_type": "markdown",
      "source": [],
      "metadata": {
        "id": "v70OWvxlNJm2"
      }
    }
  ]
}